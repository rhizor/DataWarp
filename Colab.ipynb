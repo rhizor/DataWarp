{
  "nbformat": 4,
  "nbformat_minor": 0,
  "metadata": {
    "colab": {
      "provenance": [],
      "authorship_tag": "ABX9TyMHE2xlWCX/fFVGfEPEs9th",
      "include_colab_link": true
    },
    "kernelspec": {
      "name": "python3",
      "display_name": "Python 3"
    },
    "language_info": {
      "name": "python"
    }
  },
  "cells": [
    {
      "cell_type": "markdown",
      "metadata": {
        "id": "view-in-github",
        "colab_type": "text"
      },
      "source": [
        "<a href=\"https://colab.research.google.com/github/rhizor/DataWarp/blob/main/Colab.ipynb\" target=\"_parent\"><img src=\"https://colab.research.google.com/assets/colab-badge.svg\" alt=\"Open In Colab\"/></a>"
      ]
    },
    {
      "cell_type": "code",
      "execution_count": 3,
      "metadata": {
        "colab": {
          "base_uri": "https://localhost:8080/",
          "height": 439
        },
        "id": "5f1KtM50jVOl",
        "outputId": "1ef2b417-5bbc-41ef-8bfd-8a17c05a0fec"
      },
      "outputs": [
        {
          "output_type": "stream",
          "name": "stdout",
          "text": [
            "Requirement already satisfied: httpx in /usr/local/lib/python3.11/dist-packages (0.28.1)\n",
            "Requirement already satisfied: anyio in /usr/local/lib/python3.11/dist-packages (from httpx) (3.7.1)\n",
            "Requirement already satisfied: certifi in /usr/local/lib/python3.11/dist-packages (from httpx) (2025.1.31)\n",
            "Requirement already satisfied: httpcore==1.* in /usr/local/lib/python3.11/dist-packages (from httpx) (1.0.7)\n",
            "Requirement already satisfied: idna in /usr/local/lib/python3.11/dist-packages (from httpx) (3.10)\n",
            "Requirement already satisfied: h11<0.15,>=0.13 in /usr/local/lib/python3.11/dist-packages (from httpcore==1.*->httpx) (0.14.0)\n",
            "Requirement already satisfied: sniffio>=1.1 in /usr/local/lib/python3.11/dist-packages (from anyio->httpx) (1.3.1)\n",
            "URL: https://api.cloudflareclient.com/v0a545/reg\n",
            "Headers: {'Content-Type': 'application/json; charset=UTF-8', 'Host': 'api.cloudflareclient.com', 'Connection': 'Keep-Alive', 'Accept-Encoding': 'gzip', 'User-Agent': 'okhttp/3.12.1'}\n",
            "Body: {'key': 'ScEaDz9W0dvcvquO7gje6a487CYv7iRsaAOsPGC99wA=', 'install_id': 'gl9QOgcMqOtWoASOl1vI52', 'fcm_token': 'gl9QOgcMqOtWoASOl1vI52:APA91bXDkNI0kosOsxuVVacPUkNSb1275sqpWw1wr4BR2iWspwMRP2KtzHBkApkcE2An8B2kZMUrzoLrXTVc3wBYYO2In2si0CiM499P7CJicDiJOnrza7Igd7OJcf5ODIY6M4BaZI3b', 'warp_enabled': False, 'tos': '2025-02-22T21:27:14.506+02:00', 'type': 'Android', 'locale': 'es_ES'}\n",
            "Response Status Code: 200\n",
            "Response Content: b'{\"id\":\"9f7c8813-3398-44d1-b781-541be5dd9aa0\",\"type\":\"a\",\"name\":\"\",\"key\":\"ScEaDz9W0dvcvquO7gje6a487CYv7iRsaAOsPGC99wA=\",\"account\":{\"id\":\"ae32b612-3ffd-4474-bb49-67d4168c0ef4\",\"account_type\":\"free\",\"created\":\"2025-02-22T21:27:15.142514209Z\",\"updated\":\"2025-02-22T21:27:15.142514209Z\",\"premium_data\":0,\"quota\":0,\"usage\":0,\"warp_plus\":true,\"referral_count\":0,\"referral_renewal_countdown\":0,\"role\":\"child\",\"license\":\"186iZA9Q-K123O4PT-mC36U0g2\",\"ttl\":\"2025-05-23T21:27:15.142511619Z\"},\"config\":{\"client_id\":\"yMYj\",\"peers\":[{\"public_key\":\"bmXOC+F1FxEMF9dyiK2H5/1SUtzH0JuVo51h2wPfgyo=\",\"endpoint\":\"engage.cloudflareclient.com:0\"}],\"interface\":{\"addresses\":{\"v4\":\"172.16.0.2\",\"v6\":\"2606:4700:110:8e6e:728:2955:df3:3469\"}},\"services\":{\"http_proxy\":\"172.16.0.1:2480\"}},\"token\":\"65b3c367-734c-4cdb-8dc5-1bd3c8d6823f\",\"warp_enabled\":false,\"waitlist_enabled\":true,\"created\":\"2025-02-22T21:27:14.740157812Z\",\"updated\":\"2025-02-22T21:27:14.740157812Z\",\"tos\":\"2025-02-22T21:27:14.506+02:00\",\"place\":0,\"locale\":\"es-ES\",\"enabled\":true,\"install_id\":\"gl9QOgcMqOtWoASOl1vI52\",\"fcm_token\":\"gl9QOgcMqOtWoASOl1vI52:APA91bXDkNI0kosOsxuVVacPUkNSb1275sqpWw1wr4BR2iWspwMRP2KtzHBkApkcE2An8B2kZMUrzoLrXTVc3wBYYO2In2si0CiM499P7CJicDiJOnrza7Igd7OJcf5ODIY6M4BaZI3b\",\"policy\":{\"tunnel_protocol\":\"masque\"}}'\n",
            "PASSED: +1GB (total: 1GB, failed: 0)\n",
            "Sleep: 50 seconds.\n"
          ]
        },
        {
          "output_type": "error",
          "ename": "KeyboardInterrupt",
          "evalue": "",
          "traceback": [
            "\u001b[0;31m---------------------------------------------------------------------------\u001b[0m",
            "\u001b[0;31mKeyboardInterrupt\u001b[0m                         Traceback (most recent call last)",
            "\u001b[0;32m<ipython-input-3-c6323189e524>\u001b[0m in \u001b[0;36m<cell line: 0>\u001b[0;34m()\u001b[0m\n\u001b[1;32m     73\u001b[0m     \u001b[0mcooldown_time\u001b[0m \u001b[0;34m=\u001b[0m \u001b[0mrandint\u001b[0m\u001b[0;34m(\u001b[0m\u001b[0;36m30\u001b[0m\u001b[0;34m,\u001b[0m \u001b[0;36m50\u001b[0m\u001b[0;34m)\u001b[0m\u001b[0;34m\u001b[0m\u001b[0;34m\u001b[0m\u001b[0m\n\u001b[1;32m     74\u001b[0m     \u001b[0mprint\u001b[0m\u001b[0;34m(\u001b[0m\u001b[0;34mf\"Sleep: {cooldown_time} seconds.\"\u001b[0m\u001b[0;34m)\u001b[0m\u001b[0;34m\u001b[0m\u001b[0;34m\u001b[0m\u001b[0m\n\u001b[0;32m---> 75\u001b[0;31m     \u001b[0msleep\u001b[0m\u001b[0;34m(\u001b[0m\u001b[0mcooldown_time\u001b[0m\u001b[0;34m)\u001b[0m\u001b[0;34m\u001b[0m\u001b[0;34m\u001b[0m\u001b[0m\n\u001b[0m",
            "\u001b[0;31mKeyboardInterrupt\u001b[0m: "
          ]
        }
      ],
      "source": [
        "!pip install httpx\n",
        "\n",
        "from datetime import datetime\n",
        "from json import dumps\n",
        "from random import choice, randint\n",
        "from string import ascii_letters, digits\n",
        "from time import sleep\n",
        "import httpx\n",
        "\n",
        "WARP_CLIENT_ID = \"ed9c6334-3936-455c-b207-ea4f3ec63915\" #@param {type:\"string\"}\n",
        "\n",
        "# Defaults\n",
        "SUCCESS_COUNT, FAIL_COUNT = 0, 0\n",
        "GB_PER_SUCCESS = 1  # Cambiar a 2GB por cada intento exitoso\n",
        "\n",
        "def genString(stringLength):\n",
        "    try:\n",
        "        letters = ascii_letters + digits\n",
        "        return ''.join(choice(letters) for _ in range(stringLength))\n",
        "    except Exception as error_code:\n",
        "        print(error_code)\n",
        "\n",
        "def digitString(stringLength):\n",
        "    try:\n",
        "        digit = digits\n",
        "        return ''.join(choice(digit) for _ in range(stringLength))\n",
        "    except Exception as error_code:\n",
        "        print(error_code)\n",
        "\n",
        "url = f\"https://api.cloudflareclient.com/v0a{digitString(3)}/reg\"\n",
        "\n",
        "while True:\n",
        "    try:\n",
        "        install_id = genString(22)\n",
        "        body = {\n",
        "            \"key\": f\"{genString(43)}=\",\n",
        "            \"install_id\": install_id,\n",
        "            \"fcm_token\": f\"{install_id}:APA91b{genString(134)}\",\n",
        "            \"warp_enabled\": False,\n",
        "            \"tos\": f\"{datetime.now().isoformat()[:-3]}+02:00\",\n",
        "            \"type\": \"Android\",\n",
        "            \"locale\": \"es_ES\"\n",
        "        }\n",
        "        data = dumps(body).encode(\"utf8\")\n",
        "        headers = {\n",
        "            \"Content-Type\": \"application/json; charset=UTF-8\",\n",
        "            \"Host\": \"api.cloudflareclient.com\",\n",
        "            \"Connection\": \"Keep-Alive\",\n",
        "            \"Accept-Encoding\": \"gzip\",\n",
        "            \"User-Agent\": \"okhttp/3.12.1\"\n",
        "        }\n",
        "\n",
        "        # Imprimir la solicitud para depuración\n",
        "        print(f\"URL: {url}\")\n",
        "        print(f\"Headers: {headers}\")\n",
        "        print(f\"Body: {body}\")\n",
        "\n",
        "        response = httpx.post(url, data=data, headers=headers)\n",
        "        print(f\"Response Status Code: {response.status_code}\")\n",
        "        print(f\"Response Content: {response.content}\")\n",
        "\n",
        "        if response.status_code == 200:\n",
        "            SUCCESS_COUNT += 1\n",
        "            print(f\"PASSED: +{GB_PER_SUCCESS}GB (total: {SUCCESS_COUNT * GB_PER_SUCCESS}GB, failed: {FAIL_COUNT})\")\n",
        "        else:\n",
        "            print(f\"FAILED: {response.status_code}\")\n",
        "            FAIL_COUNT += 1\n",
        "\n",
        "    except Exception as error_code:\n",
        "        print(error_code)\n",
        "\n",
        "    # Cooldown\n",
        "    cooldown_time = randint(30, 50)\n",
        "    print(f\"Sleep: {cooldown_time} seconds.\")\n",
        "    sleep(cooldown_time)"
      ]
    }
  ]
}