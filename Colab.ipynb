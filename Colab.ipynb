!pip install httpx

from datetime import datetime
from json import dumps
from random import choice, randint
from string import ascii_letters, digits
from time import sleep
import httpx

WARP_CLIENT_ID = "ed9c6334-3936-455c-b207-ea4f3ec63915" #@param {type:"string"}

# Defaults
SUCCESS_COUNT, FAIL_COUNT = 0, 0
GB_PER_SUCCESS = 2  # Cambiar a 2GB por cada intento exitoso

def genString(stringLength):
    try:
        letters = ascii_letters + digits
        return ''.join(choice(letters) for _ in range(stringLength))
    except Exception as error_code:
        print(error_code)

def digitString(stringLength):
    try:
        digit = digits
        return ''.join(choice(digit) for _ in range(stringLength))
    except Exception as error_code:
        print(error_code)

url = f"https://api.cloudflareclient.com/v0a{digitString(3)}/reg"

while True:
    try:
        install_id = genString(22)
        body = {
            "key": f"{genString(43)}=",
            "install_id": install_id,
            "fcm_token": f"{install_id}:APA91b{genString(134)}",
            "warp_enabled": False,
            "tos": f"{datetime.now().isoformat()[:-3]}+02:00",
            "type": "Android",
            "locale": "es_ES"
        }
        data = dumps(body).encode("utf8")
        headers = {
            "Content-Type": "application/json; charset=UTF-8",
            "Host": "api.cloudflareclient.com",
            "Connection": "Keep-Alive",
            "Accept-Encoding": "gzip",
            "User-Agent": "okhttp/3.12.1"
        }

        # Imprimir la solicitud para depuración
        print(f"URL: {url}")
        print(f"Headers: {headers}")
        print(f"Body: {body}")

        response = httpx.post(url, data=data, headers=headers)
        print(f"Response Status Code: {response.status_code}")
        print(f"Response Content: {response.content}")

        if response.status_code == 200:
            SUCCESS_COUNT += 1
            print(f"PASSED: +{GB_PER_SUCCESS}GB (total: {SUCCESS_COUNT * GB_PER_SUCCESS}GB, failed: {FAIL_COUNT})")
        else:
            print(f"FAILED: {response.status_code}")
            FAIL_COUNT += 1

    except Exception as error_code:
        print(error_code)

    # Cooldown
    cooldown_time = randint(30, 50)
    print(f"Sleep: {cooldown_time} seconds.")
    sleep(cooldown_time)
